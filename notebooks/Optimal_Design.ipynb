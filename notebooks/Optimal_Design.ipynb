{
  "nbformat": 4,
  "nbformat_minor": 0,
  "metadata": {
    "colab": {
      "name": "Optimal Design",
      "provenance": [],
      "collapsed_sections": [],
      "authorship_tag": "ABX9TyMxi31VBe0qXCERWKp8mYKc",
      "include_colab_link": true
    },
    "kernelspec": {
      "name": "python3",
      "display_name": "Python 3"
    }
  },
  "cells": [
    {
      "cell_type": "markdown",
      "metadata": {
        "id": "view-in-github",
        "colab_type": "text"
      },
      "source": [
        "<a href=\"https://colab.research.google.com/github/pushkar/peer-tools/blob/master/notebooks/Optimal_Design.ipynb\" target=\"_parent\"><img src=\"https://colab.research.google.com/assets/colab-badge.svg\" alt=\"Open In Colab\"/></a>"
      ]
    },
    {
      "cell_type": "code",
      "metadata": {
        "id": "Fe02pXLiaFHh",
        "colab_type": "code",
        "colab": {
          "base_uri": "https://localhost:8080/",
          "height": 204
        },
        "outputId": "8e87999b-3cf5-49b0-9279-fff09f279588"
      },
      "source": [
        "%matplotlib inline\n",
        "import numpy as np\n",
        "import pandas as pd\n",
        "pd.set_option('display.max_rows', None)\n",
        "\n",
        "import matplotlib.pyplot as plt\n",
        "\n",
        "class Models(object):\n",
        "    \"\"\"\n",
        "    A: A-opt minimizes the trace of the inverse of the information matrix. This results in minimizing the average variance of the estimates of the regression coefficients.\n",
        "    D: D-opt maximizes the determinant of the information matrix of the design. This results in maximizing the differential Shannon information content of the parameter estimates.\n",
        "    E: E-opt maximizes the minimum eigenvalue of the information matrix.\n",
        "    T: T-opt maximizes the trace of the information matrix.\n",
        "    \"\"\"\n",
        "    def __init__(self, F, C):\n",
        "        self.F = F\n",
        "        self.C = C\n",
        "        self.A = None\n",
        "        self.D = None\n",
        "        self.E = None\n",
        "        self.T = None\n",
        "        self.G = None\n",
        "\n",
        "        if self.F is not None and self.C is not None:        \n",
        "            if self.C.size and self.F.size:\n",
        "                self.A = np.trace(self.C)\n",
        "            \n",
        "            if self.F.size:\n",
        "                self.D = np.linalg.det(self.F)\n",
        "                if self.F.size > 1:\n",
        "                    self.E = np.linalg.eigvals(self.F)\n",
        "                self.T = np.trace(self.F)\n",
        "                self.G = max(np.diagonal(self.F.dot(np.linalg.inv(self.F.T.dot(self.F)).dot(self.F.T))))\n",
        "\n",
        "    def cov_area(self):\n",
        "        if self.C is None:\n",
        "            return 0\n",
        "        return np.linalg.det(self.C)\n",
        "\n",
        "    def stats(self):\n",
        "        print(\"Fisher\\n\", self.F)\n",
        "        print(\"Cov\\n\", self.C)\n",
        "        print(\"A opt\", self.A)\n",
        "        print(\"D opt\", self.D)\n",
        "        print(\"E opt\", self.E)\n",
        "        print(\"T opt\", self.T)\n",
        "        print(\"G opt\", self.G)\n",
        "\n",
        "class Linear(Models):\n",
        "    def __init__(self, data):\n",
        "        fisher = None\n",
        "        covariance = None\n",
        "        matrix_guide = False\n",
        "        if data.shape[0] > 1:\n",
        "            fisher = np.identity(data.shape[1]) * 0.001\n",
        "\n",
        "            if matrix_guide:\n",
        "                # Using http://wittman.physics.ucdavis.edu/Fisher-matrix-guide.pdf\n",
        "                for (x, sigma) in data:\n",
        "                    for i in range(data.shape[1]):\n",
        "                        if i == 0:\n",
        "                            dfdpi = x\n",
        "                        else:\n",
        "                            dfdpi = 1\n",
        "                        for j in range(data.shape[1]):\n",
        "                            if j == 0:\n",
        "                                dfdpj = x\n",
        "                            else:\n",
        "                                dfdpj = 1\n",
        "                            fisher[i, j] += sigma ** -2 * dfdpi * dfdpj\n",
        "\n",
        "                # Code using the math\n",
        "                # fisher[0, 0] = np.apply_along_axis(lambda x: np.square(x[0])/np.square(x[1]), 1, data).sum()\n",
        "                # fisher[1, 1] = np.apply_along_axis(lambda x: 1.0/np.square(x[1]), 1, data).sum()\n",
        "                # fisher[0, 1] = np.apply_along_axis(lambda x: x[0]/np.square(x[1]), 1, data).sum()\n",
        "                # fisher[1, 0] = fisher[0, 1]\n",
        "\n",
        "                covariance = np.mat(fisher).I\n",
        "\n",
        "            else:\n",
        "                # Using https://web.stanford.edu/class/archive/stats/stats200/stats200.1172/Lecture25.pdf\n",
        "                fisher = 100 * data.T @ data\n",
        "                covariance = np.mat(fisher).I\n",
        "            \n",
        "        super().__init__(F=fisher, C=covariance)\n",
        "\n",
        "support = np.array([[x, .1] for x in np.arange(0, 10, 1)])\n",
        "\n",
        "stats = []\n",
        "for i in support:\n",
        "    for j in support:\n",
        "        if np.array_equal(i, j):\n",
        "            continue\n",
        "        A = Linear(np.vstack([i, j])).A\n",
        "        stats.append({\n",
        "            'i': i[0],\n",
        "            'j': j[0],\n",
        "            'a': A\n",
        "        })\n",
        "\n",
        "pd.DataFrame(stats).sort_values('a').head(5)"
      ],
      "execution_count": null,
      "outputs": [
        {
          "output_type": "execute_result",
          "data": {
            "text/html": [
              "<div>\n",
              "<style scoped>\n",
              "    .dataframe tbody tr th:only-of-type {\n",
              "        vertical-align: middle;\n",
              "    }\n",
              "\n",
              "    .dataframe tbody tr th {\n",
              "        vertical-align: top;\n",
              "    }\n",
              "\n",
              "    .dataframe thead th {\n",
              "        text-align: right;\n",
              "    }\n",
              "</style>\n",
              "<table border=\"1\" class=\"dataframe\">\n",
              "  <thead>\n",
              "    <tr style=\"text-align: right;\">\n",
              "      <th></th>\n",
              "      <th>i</th>\n",
              "      <th>j</th>\n",
              "      <th>a</th>\n",
              "    </tr>\n",
              "  </thead>\n",
              "  <tbody>\n",
              "    <tr>\n",
              "      <th>8</th>\n",
              "      <td>0.0</td>\n",
              "      <td>9.0</td>\n",
              "      <td>1.000247</td>\n",
              "    </tr>\n",
              "    <tr>\n",
              "      <th>81</th>\n",
              "      <td>9.0</td>\n",
              "      <td>0.0</td>\n",
              "      <td>1.000247</td>\n",
              "    </tr>\n",
              "    <tr>\n",
              "      <th>7</th>\n",
              "      <td>0.0</td>\n",
              "      <td>8.0</td>\n",
              "      <td>1.000312</td>\n",
              "    </tr>\n",
              "    <tr>\n",
              "      <th>72</th>\n",
              "      <td>8.0</td>\n",
              "      <td>0.0</td>\n",
              "      <td>1.000312</td>\n",
              "    </tr>\n",
              "    <tr>\n",
              "      <th>6</th>\n",
              "      <td>0.0</td>\n",
              "      <td>7.0</td>\n",
              "      <td>1.000408</td>\n",
              "    </tr>\n",
              "  </tbody>\n",
              "</table>\n",
              "</div>"
            ],
            "text/plain": [
              "      i    j         a\n",
              "8   0.0  9.0  1.000247\n",
              "81  9.0  0.0  1.000247\n",
              "7   0.0  8.0  1.000312\n",
              "72  8.0  0.0  1.000312\n",
              "6   0.0  7.0  1.000408"
            ]
          },
          "metadata": {
            "tags": []
          },
          "execution_count": 1
        }
      ]
    },
    {
      "cell_type": "code",
      "metadata": {
        "id": "a3bj7Z7gLOlF",
        "colab_type": "code",
        "colab": {
          "base_uri": "https://localhost:8080/",
          "height": 383
        },
        "outputId": "8ec96c44-e403-4ac7-d993-b8db9be43ff2"
      },
      "source": [
        "# http://www.stat.columbia.edu/~fwood/Teaching/w4315/Fall2009/lecture_11\n",
        "# https://www.stat.purdue.edu/~lingsong/teaching/2018spring/topic3.pdf\n",
        "\n",
        "\n",
        "N = 20\n",
        "X = np.array([[1, np.random.randint(20)] for _ in range(N)])\n",
        "B = np.array([1, 5])\n",
        "e = np.random.normal(0, 10, size=N)\n",
        "\n",
        "Y = X @ B + e\n",
        "\n",
        "# If inverse of X.T @ X exists\n",
        "B_hat = np.linalg.inv(X.T @ X) @ X.T @ Y\n",
        "print(\"B_hat\", B_hat)\n",
        "\n",
        "X_test = np.array([[1, 0], [1, 20]])\n",
        "Y_test = X_test @ B_hat\n",
        "\n",
        "SSE = Y.T @ Y - B_hat.T @ X.T @ Y\n",
        "print(\"SSE\", SSE)\n",
        "\n",
        "Var_B = np.linalg.inv(X.T @ X)\n",
        "print(\"Variance B\\n\", Var_B)\n",
        "print(\"Det(Variance)\", np.linalg.det(Var_B))\n",
        "\n",
        "_ = plt.plot(X[:, 1], Y, '.')\n",
        "_ = plt.plot(X_test[:, 1], Y_test)\n",
        "_ = plt.title(\"Linear Regression\")"
      ],
      "execution_count": null,
      "outputs": [
        {
          "output_type": "stream",
          "text": [
            "B_hat [0.01422893 4.9866533 ]\n",
            "SSE 1819.2473493040889\n",
            "Variance B\n",
            " [[ 0.19668124 -0.01474183]\n",
            " [-0.01474183  0.00148159]]\n",
            "Det(Variance) 7.40795614489962e-05\n"
          ],
          "name": "stdout"
        },
        {
          "output_type": "display_data",
          "data": {
            "image/png": "[encoded data removed]",
            "text/plain": [
              "<Figure size 432x288 with 1 Axes>"
            ]
          },
          "metadata": {
            "tags": [],
            "needs_background": "light"
          }
        }
      ]
    },
    {
      "cell_type": "code",
      "metadata": {
        "id": "QBatqurQUtkj",
        "colab_type": "code",
        "colab": {
          "base_uri": "https://localhost:8080/",
          "height": 34
        },
        "outputId": "ff24887b-0e7b-42d5-c21e-0296fa25429b"
      },
      "source": [
        "B_hat"
      ],
      "execution_count": null,
      "outputs": [
        {
          "output_type": "execute_result",
          "data": {
            "text/plain": [
              "array([0.01422893, 4.9866533 ])"
            ]
          },
          "metadata": {
            "tags": []
          },
          "execution_count": 3
        }
      ]
    },
    {
      "cell_type": "code",
      "metadata": {
        "id": "q0263JTxUyGM",
        "colab_type": "code",
        "colab": {
          "base_uri": "https://localhost:8080/",
          "height": 269
        },
        "outputId": "0b32a7fe-de57-426f-d2e0-0ffe03988bca"
      },
      "source": [
        "from matplotlib.patches import Ellipse\n",
        "\n",
        "def eigsorted(cov):\n",
        "    vals, vecs = np.linalg.eigh(cov)\n",
        "    order = vals.argsort()[::-1]\n",
        "    return vals[order], vecs[:,order]\n",
        "\n",
        "vals, vecs = eigsorted(Var_B)\n",
        "theta = np.degrees(np.arctan2(*vecs[:,0][::-1]))\n",
        "\n",
        "# Width and height are \"full\" widths, not radius\n",
        "width, height = 1 * 2 * np.sqrt(vals)\n",
        "ellip = Ellipse(xy=[0.5, 0.5], width=width, height=height, angle=theta)\n",
        "\n",
        "ax = plt.gca();\n",
        "ax.add_artist(ellip);"
      ],
      "execution_count": null,
      "outputs": [
        {
          "output_type": "display_data",
          "data": {
            "image/png": "[encoded data removed]",
            "text/plain": [
              "<Figure size 432x288 with 1 Axes>"
            ]
          },
          "metadata": {
            "tags": [],
            "needs_background": "light"
          }
        }
      ]
    },
    {
      "cell_type": "code",
      "metadata": {
        "id": "fz6l8pLQzIve",
        "colab_type": "code",
        "colab": {
          "base_uri": "https://localhost:8080/",
          "height": 51
        },
        "outputId": "3c377a45-694d-4582-b0f2-c18a2cf4cc77"
      },
      "source": [
        "vecs"
      ],
      "execution_count": null,
      "outputs": [
        {
          "output_type": "execute_result",
          "data": {
            "text/plain": [
              "array([[-0.99719217, -0.07488507],\n",
              "       [ 0.07488507, -0.99719217]])"
            ]
          },
          "metadata": {
            "tags": []
          },
          "execution_count": 5
        }
      ]
    },
    {
      "cell_type": "code",
      "metadata": {
        "id": "bjO18zZ2x4GO",
        "colab_type": "code",
        "colab": {
          "base_uri": "https://localhost:8080/",
          "height": 34
        },
        "outputId": "f6e6e161-9047-4e10-f921-7c5c117768c9"
      },
      "source": [
        "np.degrees(np.arctan2(0.07390328, -0.99726541))"
      ],
      "execution_count": null,
      "outputs": [
        {
          "output_type": "execute_result",
          "data": {
            "text/plain": [
              "175.76178999330338"
            ]
          },
          "metadata": {
            "tags": []
          },
          "execution_count": 6
        }
      ]
    },
    {
      "cell_type": "code",
      "metadata": {
        "id": "xuexgeLJyH53",
        "colab_type": "code",
        "colab": {}
      },
      "source": [
        ""
      ],
      "execution_count": null,
      "outputs": []
    },
    {
      "cell_type": "markdown",
      "metadata": {
        "id": "GAIAxJICUaxC",
        "colab_type": "text"
      },
      "source": [
        "# Gaussian Process"
      ]
    },
    {
      "cell_type": "code",
      "metadata": {
        "id": "jBv7_eqNUubB",
        "colab_type": "code",
        "colab": {}
      },
      "source": [
        "import numpy as np\n",
        "import matplotlib.pyplot as plt\n",
        "\n",
        "from matplotlib import cm\n",
        "from mpl_toolkits.mplot3d import Axes3D\n",
        "\n",
        "def plot_gp(mu, cov, X, X_train=None, Y_train=None, samples=[]):\n",
        "    X = X.ravel()\n",
        "    mu = mu.ravel()\n",
        "    uncertainty = 1.96 * np.sqrt(np.diag(cov))\n",
        "    \n",
        "    plt.figure()\n",
        "    plt.fill_between(X, mu + uncertainty, mu - uncertainty, alpha=0.1)\n",
        "    plt.plot(X, mu, label='Mean')\n",
        "    for i, sample in enumerate(samples):\n",
        "        plt.plot(X, sample, lw=1, ls='--', label=f'Sample {i+1}')\n",
        "    if X_train is not None:\n",
        "        plt.plot(X_train, Y_train, 'rx')\n",
        "    plt.legend()"
      ],
      "execution_count": null,
      "outputs": []
    },
    {
      "cell_type": "code",
      "metadata": {
        "id": "rywZ5dIHUceG",
        "colab_type": "code",
        "colab": {}
      },
      "source": [
        "def kernel(X1, X2, l=1.0, sigma_f=1.0):\n",
        "    '''\n",
        "    Isotropic squared exponential kernel. Computes \n",
        "    a covariance matrix from points in X1 and X2.\n",
        "    \n",
        "    Args:\n",
        "        X1: Array of m points (m x d).\n",
        "        X2: Array of n points (n x d).\n",
        "\n",
        "    Returns:\n",
        "        Covariance matrix (m x n).\n",
        "    '''\n",
        "    sqdist = np.sum(X1**2, 1).reshape(-1, 1) + np.sum(X2**2, 1) - 2 * np.dot(X1, X2.T)\n",
        "    return sigma_f**2 * np.exp(-0.5 / l**2 * sqdist)"
      ],
      "execution_count": null,
      "outputs": []
    },
    {
      "cell_type": "code",
      "metadata": {
        "id": "5nqG4gucUc4-",
        "colab_type": "code",
        "colab": {
          "base_uri": "https://localhost:8080/",
          "height": 649
        },
        "outputId": "dcaa6853-9bb4-458f-c293-7880a3e06df9"
      },
      "source": [
        "from numpy.linalg import inv\n",
        "\n",
        "def kernel(X1, X2, l=1.0, sigma_f=1.0):\n",
        "    return np.dot(X1, X2.T) + 0.01 * np.identity(X1.shape[1]) * 0.01\n",
        "    # return X1 @ X2.T + 0.01 * np.identity(X1.shape[1]) * 0.01\n",
        "\n",
        "def posterior_predictive(X_s, X_train, Y_train, l=1.0, sigma_f=1.0, sigma_y=1e-8):\n",
        "    '''\n",
        "    Computes the suffifient statistics of the GP posterior predictive distribution \n",
        "    from m training data X_train and Y_train and n new inputs X_s.\n",
        "    \n",
        "    Args:\n",
        "        X_s: New input locations (n x d).\n",
        "        X_train: Training locations (m x d).\n",
        "        Y_train: Training targets (m x 1).\n",
        "        l: Kernel length parameter.\n",
        "        sigma_f: Kernel vertical variation parameter.\n",
        "        sigma_y: Noise parameter.\n",
        "    \n",
        "    Returns:\n",
        "        Posterior mean vector (n x d) and covariance matrix (n x n).\n",
        "    '''\n",
        "    K = kernel(X_train, X_train, l, sigma_f) + sigma_y**2 * np.eye(len(X_train))\n",
        "    K_s = kernel(X_train, X_s, l, sigma_f)\n",
        "    K_ss = kernel(X_s, X_s, l, sigma_f) + 1e-8 * np.eye(len(X_s))\n",
        "    print(K, np.linalg.det(K))\n",
        "    K_inv = inv(K)\n",
        "    \n",
        "    # Equation (4)\n",
        "    mu_s = K_s.T.dot(K_inv).dot(Y_train)\n",
        "\n",
        "    # Equation (5)\n",
        "    cov_s = K_ss - K_s.T.dot(K_inv).dot(K_s)\n",
        "    \n",
        "    return mu_s, cov_s\n",
        "\n",
        "# Finite number of points\n",
        "X = np.arange(-5, 5, 0.2).reshape(-1, 1)\n",
        "\n",
        "# Mean and covariance of the prior\n",
        "mu = np.zeros(X.shape)\n",
        "cov = kernel(X, X)\n",
        "\n",
        "# Draw three samples from the prior\n",
        "samples = np.random.multivariate_normal(mu.ravel(), cov, 3)\n",
        "\n",
        "# Plot GP mean, confidence interval and samples\n",
        "plot_gp(mu, cov, X, samples=samples)\n",
        "\n",
        "# Noise free training data\n",
        "X_train = np.array([-4, -3, -2, -1, 1]).reshape(-1, 1)\n",
        "Y_train = np.sin(X_train)\n",
        "\n",
        "# Compute mean and covariance of the posterior predictive distribution\n",
        "mu_s, cov_s = posterior_predictive(X, X_train, Y_train)\n",
        "\n",
        "samples = np.random.multivariate_normal(mu_s.ravel(), cov_s, 3)\n",
        "plot_gp(mu_s, cov_s, X, X_train=X_train, Y_train=Y_train, samples=samples)"
      ],
      "execution_count": null,
      "outputs": [
        {
          "output_type": "stream",
          "text": [
            "[[16.0001 12.0001  8.0001  4.0001 -3.9999]\n",
            " [12.0001  9.0001  6.0001  3.0001 -2.9999]\n",
            " [ 8.0001  6.0001  4.0001  2.0001 -1.9999]\n",
            " [ 4.0001  3.0001  2.0001  1.0001 -0.9999]\n",
            " [-3.9999 -2.9999 -1.9999 -0.9999  1.0001]] -4.379057701029915e-50\n"
          ],
          "name": "stdout"
        },
        {
          "output_type": "stream",
          "text": [
            "/usr/local/lib/python3.6/dist-packages/ipykernel_launcher.py:57: RuntimeWarning: covariance is not positive-semidefinite.\n",
            "/usr/local/lib/python3.6/dist-packages/ipykernel_launcher.py:10: RuntimeWarning: invalid value encountered in sqrt\n",
            "  # Remove the CWD from sys.path while we load stuff.\n"
          ],
          "name": "stderr"
        },
        {
          "output_type": "display_data",
          "data": {
            "image/png": "[encoded data removed]",
            "text/plain": [
              "<Figure size 432x288 with 1 Axes>"
            ]
          },
          "metadata": {
            "tags": [],
            "needs_background": "light"
          }
        },
        {
          "output_type": "display_data",
          "data": {
            "image/png": "[encoded data removed]",
            "text/plain": [
              "<Figure size 432x288 with 1 Axes>"
            ]
          },
          "metadata": {
            "tags": [],
            "needs_background": "light"
          }
        }
      ]
    },
    {
      "cell_type": "code",
      "metadata": {
        "id": "q0Ec90IabzhO",
        "colab_type": "code",
        "colab": {
          "base_uri": "https://localhost:8080/",
          "height": 102
        },
        "outputId": "6184bfd6-cbdc-4e12-f1ad-852d8ed1ac94"
      },
      "source": [
        "X_train"
      ],
      "execution_count": null,
      "outputs": [
        {
          "output_type": "execute_result",
          "data": {
            "text/plain": [
              "array([[-4],\n",
              "       [-3],\n",
              "       [-2],\n",
              "       [-1],\n",
              "       [ 1]])"
            ]
          },
          "metadata": {
            "tags": []
          },
          "execution_count": 10
        }
      ]
    },
    {
      "cell_type": "code",
      "metadata": {
        "id": "P8DNxGPgjQbw",
        "colab_type": "code",
        "colab": {
          "base_uri": "https://localhost:8080/",
          "height": 102
        },
        "outputId": "e554b202-59d5-4dc9-d604-3ad99380f886"
      },
      "source": [
        "Y_train"
      ],
      "execution_count": null,
      "outputs": [
        {
          "output_type": "execute_result",
          "data": {
            "text/plain": [
              "array([[ 0.7568025 ],\n",
              "       [-0.14112001],\n",
              "       [-0.90929743],\n",
              "       [-0.84147098],\n",
              "       [ 0.84147098]])"
            ]
          },
          "metadata": {
            "tags": []
          },
          "execution_count": 11
        }
      ]
    },
    {
      "cell_type": "code",
      "metadata": {
        "id": "yUWx7Oe8jU0s",
        "colab_type": "code",
        "colab": {
          "base_uri": "https://localhost:8080/",
          "height": 265
        },
        "outputId": "40da348f-9cdb-47be-b4ae-7369d41474dd"
      },
      "source": [
        "mean = [0, 0]\n",
        "cov = [[1, 0], [0, 50]]\n",
        "\n",
        "x, y = np.random.multivariate_normal(mean, cov, 100).T\n",
        "_ = plt.plot(x, y, '.')\n",
        "_ = plt.axis('equal')\n"
      ],
      "execution_count": null,
      "outputs": [
        {
          "output_type": "display_data",
          "data": {
            "image/png": "[encoded data removed]",
            "text/plain": [
              "<Figure size 432x288 with 1 Axes>"
            ]
          },
          "metadata": {
            "tags": [],
            "needs_background": "light"
          }
        }
      ]
    },
    {
      "cell_type": "code",
      "metadata": {
        "id": "TU_t8SUjkcel",
        "colab_type": "code",
        "colab": {
          "base_uri": "https://localhost:8080/",
          "height": 34
        },
        "outputId": "4ff29a4b-3ae4-4dee-842c-e519d0b73be8"
      },
      "source": [
        "x.shape"
      ],
      "execution_count": null,
      "outputs": [
        {
          "output_type": "execute_result",
          "data": {
            "text/plain": [
              "(100,)"
            ]
          },
          "metadata": {
            "tags": []
          },
          "execution_count": 13
        }
      ]
    },
    {
      "cell_type": "code",
      "metadata": {
        "id": "0LXE6VzhEzjN",
        "colab_type": "code",
        "colab": {
          "base_uri": "https://localhost:8080/",
          "height": 748
        },
        "outputId": "c11d2b9c-3bdd-4de4-dee0-6261f3d85bbd"
      },
      "source": [
        "import sklearn\n",
        "dir(sklearn.gaussian_process.kernels)"
      ],
      "execution_count": null,
      "outputs": [
        {
          "output_type": "execute_result",
          "data": {
            "text/plain": [
              "['ABCMeta',\n",
              " 'CompoundKernel',\n",
              " 'ConstantKernel',\n",
              " 'DotProduct',\n",
              " 'ExpSineSquared',\n",
              " 'Exponentiation',\n",
              " 'GenericKernelMixin',\n",
              " 'Hyperparameter',\n",
              " 'Kernel',\n",
              " 'KernelOperator',\n",
              " 'Matern',\n",
              " 'NormalizedKernelMixin',\n",
              " 'PairwiseKernel',\n",
              " 'Product',\n",
              " 'RBF',\n",
              " 'RationalQuadratic',\n",
              " 'StationaryKernelMixin',\n",
              " 'Sum',\n",
              " 'WhiteKernel',\n",
              " '__builtins__',\n",
              " '__cached__',\n",
              " '__doc__',\n",
              " '__file__',\n",
              " '__loader__',\n",
              " '__name__',\n",
              " '__package__',\n",
              " '__spec__',\n",
              " '_approx_fprime',\n",
              " '_check_length_scale',\n",
              " '_num_samples',\n",
              " 'abstractmethod',\n",
              " 'cdist',\n",
              " 'clone',\n",
              " 'gamma',\n",
              " 'kv',\n",
              " 'math',\n",
              " 'namedtuple',\n",
              " 'np',\n",
              " 'pairwise_kernels',\n",
              " 'pdist',\n",
              " 'signature',\n",
              " 'squareform',\n",
              " 'warnings']"
            ]
          },
          "metadata": {
            "tags": []
          },
          "execution_count": 19
        }
      ]
    },
    {
      "cell_type": "code",
      "metadata": {
        "id": "MUnIiwbHFN_C",
        "colab_type": "code",
        "colab": {
          "base_uri": "https://localhost:8080/",
          "height": 549
        },
        "outputId": "f1890f08-e38e-4274-ecb1-68122712b69e"
      },
      "source": [
        "from sklearn.gaussian_process import GaussianProcessRegressor\n",
        "from sklearn.gaussian_process.kernels import RBF, DotProduct, WhiteKernel, ConstantKernel as C\n",
        "\n",
        "np.random.seed(1)\n",
        "\n",
        "\n",
        "def f(x):\n",
        "    \"\"\"The function to predict.\"\"\"\n",
        "    # return x * np.sin(x)\n",
        "    return 1.5 * x + 1\n",
        "\n",
        "# ----------------------------------------------------------------------\n",
        "#  First the noiseless case\n",
        "X = np.atleast_2d([1., 2.]).T\n",
        "y = f(X).ravel()\n",
        "dy = 0.5 + 1.0 * np.random.random(y.shape)\n",
        "noise = np.random.normal(0, dy)\n",
        "y += noise\n",
        "\n",
        "# Mesh the input space for evaluations of the real function, the prediction and its MSE\n",
        "x = np.atleast_2d(np.linspace(0, 10, 1000)).T\n",
        "\n",
        "# Instantiate a Gaussian Process model\n",
        "# kernel = C(1.0, (1e-3, 1e3)) * RBF(10, (1e-2, 1e2))\n",
        "kernel = DotProduct() + WhiteKernel()\n",
        "gp = GaussianProcessRegressor(kernel=kernel, alpha=dy ** 2, n_restarts_optimizer=9)\n",
        "\n",
        "# Fit to data using Maximum Likelihood Estimation of the parameters\n",
        "gp.fit(X, y)\n",
        "\n",
        "# Make the prediction on the meshed x-axis (ask for MSE as well)\n",
        "y_pred, sigma = gp.predict(x, return_std=True)\n",
        "\n",
        "# Plot the function, the prediction and the 95% confidence interval based on\n",
        "# the MSE\n",
        "plt.figure()\n",
        "plt.plot(x, f(x), 'r:', label=r'$f(x) = x\\,\\sin(x)$')\n",
        "# plt.plot(X, y, 'r.', markersize=10, label='Observations')\n",
        "plt.errorbar(X.ravel(), y, dy, fmt='r.', markersize=10, label='Observations')\n",
        "plt.plot(x, y_pred, 'b-', label='Prediction')\n",
        "plt.fill(np.concatenate([x, x[::-1]]), np.concatenate([y_pred - 1.9600 * sigma, (y_pred + 1.9600 * sigma)[::-1]]), alpha=.25, fc='cyan', ec='None', label='95% confidence interval')\n",
        "plt.xlabel('$x$')\n",
        "plt.ylabel('$f(x)$')\n",
        "plt.ylim(-10, 20)\n",
        "plt.legend(loc='upper left')\n",
        "\n",
        "# ----------------------------------------------------------------------\n",
        "# now the noisy case\n",
        "X = np.linspace(0.1, 9.9, 10)\n",
        "X = np.atleast_2d(X).T\n",
        "\n",
        "# Observations and noise\n",
        "y = f(X).ravel()\n",
        "dy = 2.5 + 1.0 * np.random.random(y.shape)\n",
        "noise = np.random.normal(0, dy)\n",
        "y += noise\n",
        "\n",
        "# Instantiate a Gaussian Process model\n",
        "gp = GaussianProcessRegressor(kernel=kernel, alpha=dy ** 2, n_restarts_optimizer=10)\n",
        "\n",
        "# Fit to data using Maximum Likelihood Estimation of the parameters\n",
        "gp.fit(X, y)\n",
        "\n",
        "# Make the prediction on the meshed x-axis (ask for MSE as well)\n",
        "y_pred, sigma = gp.predict(x, return_std=True)\n",
        "\n",
        "# Plot the function, the prediction and the 95% confidence interval based on\n",
        "# the MSE\n",
        "plt.figure()\n",
        "plt.plot(x, f(x), 'r:', label=r'$f(x) = x\\,\\sin(x)$')\n",
        "plt.errorbar(X.ravel(), y, dy, fmt='r.', markersize=10, label='Observations')\n",
        "plt.plot(x, y_pred, 'b-', label='Prediction')\n",
        "plt.fill(np.concatenate([x, x[::-1]]), np.concatenate([y_pred - 1.9600 * sigma, (y_pred + 1.9600 * sigma)[::-1]]), alpha=.25, fc='cyan', ec='None', label='95% confidence interval')\n",
        "plt.xlabel('$x$')\n",
        "plt.ylabel('$f(x)$')\n",
        "plt.ylim(-10, 20)\n",
        "plt.legend(loc='upper left')\n",
        "\n",
        "plt.show()"
      ],
      "execution_count": null,
      "outputs": [
        {
          "output_type": "display_data",
          "data": {
            "image/png": "[encoded data removed]",
            "text/plain": [
              "<Figure size 432x288 with 1 Axes>"
            ]
          },
          "metadata": {
            "tags": [],
            "needs_background": "light"
          }
        },
        {
          "output_type": "display_data",
          "data": {
            "image/png": "[encoded data removed]",
            "text/plain": [
              "<Figure size 432x288 with 1 Axes>"
            ]
          },
          "metadata": {
            "tags": [],
            "needs_background": "light"
          }
        }
      ]
    },
    {
      "cell_type": "code",
      "metadata": {
        "id": "X3A0SDpuK0sV",
        "colab_type": "code",
        "colab": {}
      },
      "source": [
        "y\n"
      ],
      "execution_count": null,
      "outputs": []
    }
  ]
}